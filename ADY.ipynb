{
 "cells": [
  {
   "cell_type": "code",
   "execution_count": 1,
   "metadata": {},
   "outputs": [],
   "source": [
    "import pandas as pd"
   ]
  },
  {
   "cell_type": "code",
   "execution_count": 2,
   "metadata": {},
   "outputs": [],
   "source": [
    "df = pd.read_csv(\"DataForPriceHouse_1.csv\")\n",
    "df = df.loc[:, ~df.columns.str.contains('^Unnamed')]"
   ]
  },
  {
   "cell_type": "code",
   "execution_count": 3,
   "metadata": {},
   "outputs": [],
   "source": [
    "def convert_price(price: str):\n",
    "    s = price.split(); n = len(s)\n",
    "    if n == 2:\n",
    "        if s[1] == \"tỷ\": price = int(s[0]) * 1000000000\n",
    "        elif s[1] == \"triệu\": price = int(s[0]) * 1000000\n",
    "        else: price = s[0]\n",
    "    elif n == 4:\n",
    "        if s[1] == \"tỷ\": price = int(s[0]) * 1000000000 + int(s[2]) * 1000000\n",
    "        elif s[1] == \"triệu\": price = int(s[0]) * 1000000 + int(s[2]) * 1000\n",
    "    return price"
   ]
  },
  {
   "cell_type": "code",
   "execution_count": 4,
   "metadata": {},
   "outputs": [],
   "source": [
    "df[\"Giá nhà\"] = df[\"Giá nhà\"].map(convert_price)"
   ]
  },
  {
   "cell_type": "code",
   "execution_count": 6,
   "metadata": {},
   "outputs": [],
   "source": [
    "df.to_csv(\"D:\\FPT\\ADY\\ADY201m-\\sample.csv\")"
   ]
  },
  {
   "cell_type": "code",
   "execution_count": null,
   "metadata": {},
   "outputs": [],
   "source": []
  }
 ],
 "metadata": {
  "kernelspec": {
   "display_name": "Python 3",
   "language": "python",
   "name": "python3"
  },
  "language_info": {
   "codemirror_mode": {
    "name": "ipython",
    "version": 3
   },
   "file_extension": ".py",
   "mimetype": "text/x-python",
   "name": "python",
   "nbconvert_exporter": "python",
   "pygments_lexer": "ipython3",
   "version": "3.10.7"
  },
  "orig_nbformat": 4
 },
 "nbformat": 4,
 "nbformat_minor": 2
}
